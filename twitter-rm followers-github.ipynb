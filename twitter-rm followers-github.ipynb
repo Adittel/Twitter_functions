{
 "cells": [
  {
   "cell_type": "code",
   "execution_count": null,
   "metadata": {},
   "outputs": [],
   "source": [
    "def unf1(user):\n",
    "    try:\n",
    "        maxunfol= 5000\n",
    "\n",
    "        SCREEN_NAME = user[0]\n",
    "        CONSUMER_KEY=user[1]\n",
    "        CONSUMER_SECRET=user[2]\n",
    "\n",
    "        ACCESS_TOKEN= user[3]\n",
    "        ACCESS_TOKEN_SECRET=user[4]\n",
    "\n",
    "        auth = tweepy.OAuthHandler(CONSUMER_KEY, CONSUMER_SECRET)\n",
    "        auth.set_access_token(ACCESS_TOKEN, ACCESS_TOKEN_SECRET)\n",
    "        api = tweepy.API(auth)\n",
    "\n",
    "        followers = api.followers_ids(SCREEN_NAME)\n",
    "        friends = api.friends_ids(SCREEN_NAME)\n",
    "        print(user[0]+\" has  \"+ str(len(friends)))\n",
    "        for f in friends:\n",
    "            \n",
    "                if(maxunfol>0):\n",
    "                    try:\n",
    "                        api.destroy_friendship(f)\n",
    "                        sleep(1)\n",
    "                        maxunfol-=1\n",
    "                        if(maxunfol%100==0):\n",
    "                            print(maxunfol%100)\n",
    "                    except:\n",
    "                        print('o')\n",
    "    except Exception as e:\n",
    "        print(user[0]+\" failed \")\n",
    "        print(e)"
   ]
  },
  {
   "cell_type": "code",
   "execution_count": null,
   "metadata": {},
   "outputs": [],
   "source": [
    "holder=[]\n",
    "#SCREEN_NAME = user[0]\n",
    "#    CONSUMER_KEY=user[1]\n",
    "#    CONSUMER_SECRET=user[2]\n",
    "\n",
    "#    ACCESS_TOKEN= user[3]\n",
    "#    ACCESS_TOKEN_SECRET=user[4]\n",
    "holder.append([\"x\",\n",
    "               \"x\",\n",
    "               \"x\",\n",
    "               \"x-x\",\n",
    "               \"x\"])\n",
    "holder.append([\"x\",\n",
    "               \"x\",\n",
    "               \"x\",\n",
    "               \"x-x\",\n",
    "               \"x\"])\n",
    "holder.append([\"x\",\n",
    "               \"x\",\n",
    "               \"x\",\n",
    "               \"x-x\",\n",
    "               \"x\"])\n",
    "holder.append([\"x\",\n",
    "               \"x\",\n",
    "               \"x\",\n",
    "               \"x-x\",\n",
    "               \"x\"])\n",
    "holder.append([\"x\",\n",
    "               \"x\",\n",
    "               \"x\",\n",
    "               \"x-x\",\n",
    "               \"x\"])\n",
    "holder.append([\"x\",\n",
    "               \"x\",\n",
    "               \"x\",\n",
    "               \"x-x\",\n",
    "               \"x\"])\n"
   ]
  },
  {
   "cell_type": "code",
   "execution_count": null,
   "metadata": {},
   "outputs": [],
   "source": [
    "#you can remove followers for up to 5 accounts by using this"
   ]
  },
  {
   "cell_type": "code",
   "execution_count": null,
   "metadata": {},
   "outputs": [],
   "source": [
    "import threading\n",
    "import tweepy\n",
    "from time import sleep\n",
    "t0 = threading.Thread(target=unf1, args=(holder[0],))\n",
    "t1 = threading.Thread(target=unf1, args=(holder[1],))\n",
    "t2 = threading.Thread(target=unf1, args=(holder[2],))\n",
    "t3 = threading.Thread(target=unf1, args=(holder[3],))\n",
    "t4 = threading.Thread(target=unf1, args=(holder[4],))\n",
    "\n",
    "t0.start()\n",
    "t1.start()\n",
    "t2.start()\n",
    "t3.start()\n",
    "t4.start()\n",
    "\n",
    "t0.join()\n",
    "t1.join()\n",
    "t2.join()\n",
    "t3.join()\n",
    "t4.join()\n",
    "\n",
    "print(\"Done!\")"
   ]
  },
  {
   "cell_type": "code",
   "execution_count": null,
   "metadata": {},
   "outputs": [],
   "source": []
  }
 ],
 "metadata": {
  "kernelspec": {
   "display_name": "Python 3",
   "language": "python",
   "name": "python3"
  },
  "language_info": {
   "codemirror_mode": {
    "name": "ipython",
    "version": 3
   },
   "file_extension": ".py",
   "mimetype": "text/x-python",
   "name": "python",
   "nbconvert_exporter": "python",
   "pygments_lexer": "ipython3",
   "version": "3.6.6"
  }
 },
 "nbformat": 4,
 "nbformat_minor": 2
}
